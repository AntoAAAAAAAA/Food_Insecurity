{
 "cells": [
  {
   "cell_type": "code",
   "execution_count": 98,
   "id": "fab283f1",
   "metadata": {},
   "outputs": [],
   "source": [
    "import pandas as pd\n",
    "import numpy as np\n",
    "import matplotlib.pyplot as plt \n",
    "data = pd.read_csv('data/usds_atlas_cleaned.csv')\n",
    "\n",
    "\n",
    "\n",
    "\n",
    "\n",
    "\n"
   ]
  },
  {
   "cell_type": "markdown",
   "id": "70a5cc4f",
   "metadata": {},
   "source": [
    "Which counties have the most **number** of food desert tracks (LowIncomeTract is 1)? Top 5"
   ]
  },
  {
   "cell_type": "code",
   "execution_count": 99,
   "id": "21a1a73d",
   "metadata": {},
   "outputs": [
    {
     "data": {
      "text/plain": [
       "['Harris',\n",
       " 'Dallas',\n",
       " 'Bexar',\n",
       " 'Tarrant',\n",
       " 'Hidalgo',\n",
       " 'El Paso',\n",
       " 'Cameron',\n",
       " 'Travis',\n",
       " 'Bell',\n",
       " 'Jefferson']"
      ]
     },
     "execution_count": 99,
     "metadata": {},
     "output_type": "execute_result"
    }
   ],
   "source": [
    "data.groupby('County')['LILATracts_1And10'].sum().sort_values(ascending=False).head(10).index.tolist()[:10]\n",
    "#data.groupby('County')['LILATracts_1And10'].sum().sort_values(ascending=False).head(5).index.to_list()"
   ]
  },
  {
   "cell_type": "code",
   "execution_count": null,
   "id": "3b345c97",
   "metadata": {},
   "outputs": [],
   "source": [
    "\n",
    "\n",
    "\n",
    "\n",
    "\n",
    "\n",
    "\n"
   ]
  },
  {
   "cell_type": "markdown",
   "id": "e0037fc0",
   "metadata": {},
   "source": [
    "Track the number of tracts that are food deserts with stricter definitions:\n",
    "- LILATracts_halfAnd10, LILATracts_1And20, LILATracts_Vehicle. "
   ]
  },
  {
   "cell_type": "code",
   "execution_count": 100,
   "id": "1dcab13c",
   "metadata": {},
   "outputs": [
    {
     "name": "stdout",
     "output_type": "stream",
     "text": [
      "1022 tracts fall under the standard definition of a food desert\n",
      "1035 tracts fall under alternative, slightly tweaked definitions of a food desert.\n"
     ]
    }
   ],
   "source": [
    "normal_def = data['LILATracts_1And10'].sum()\n",
    "diff_def_data = data[(data['LILATracts_1And10'] == 0) & ((data['LILATracts_1And20'] == 1) | (data['LILATracts_Vehicle'] == 1) | (data['LILATracts_halfAnd10'] == 1))]\n",
    "diff_def = diff_def_data.shape[0]\n",
    "diff_def\n",
    "\n",
    "print(f'{normal_def} tracts fall under the standard definition of a food desert')\n",
    "print(f'{diff_def} tracts fall under alternative, slightly tweaked definitions of a food desert.')"
   ]
  },
  {
   "cell_type": "code",
   "execution_count": null,
   "id": "1f86f203",
   "metadata": {},
   "outputs": [],
   "source": [
    "\n",
    "\n",
    "\n",
    "\n",
    "\n",
    "\n",
    "\n"
   ]
  },
  {
   "cell_type": "markdown",
   "id": "e09dcd6b",
   "metadata": {},
   "source": [
    "What tracts are food deserts, but also have low vehicle access? Which ones are food deserts, but don't have low vehicle access? "
   ]
  },
  {
   "cell_type": "code",
   "execution_count": 101,
   "id": "ca0887b2",
   "metadata": {},
   "outputs": [
    {
     "name": "stdout",
     "output_type": "stream",
     "text": [
      "                   LVA (HUNV=1)  Non-LVA (HUNV=0)\n",
      "FD (1And10=1)               415              4823\n",
      "Not FD (1And10=0)           575              4663\n"
     ]
    }
   ],
   "source": [
    "FD_and_LVA = data[(data['LILATracts_1And10'] == 1) & data['HUNVFlag'] == 1].shape[0]\n",
    "FD_and_NLVA = data[(data['LILATracts_1And10'] == 1) & data['HUNVFlag'] == 0].shape[0]\n",
    "NFD_and_LVA = data[(data['LILATracts_1And10'] == 0) & data['HUNVFlag'] == 1].shape[0]\n",
    "NFD_and_NLVA = data[(data['LILATracts_1And10'] == 0) & data['HUNVFlag'] == 0].shape[0]\n",
    "\n",
    "\n",
    "df_2x2 = pd.DataFrame(\n",
    "    [[FD_and_LVA, FD_and_NLVA],\n",
    "     [NFD_and_LVA, NFD_and_NLVA]],\n",
    "    index=['FD (1And10=1)', 'Not FD (1And10=0)'],\n",
    "    columns=['LVA (HUNV=1)', 'Non-LVA (HUNV=0)']\n",
    ")\n",
    "print(df_2x2)\n",
    "# export\n",
    "df_2x2\n",
    "df_2x2.to_csv('fd_and_lva_grid.csv', index=False)"
   ]
  },
  {
   "cell_type": "code",
   "execution_count": null,
   "id": "4f2474b2",
   "metadata": {},
   "outputs": [],
   "source": [
    "\n",
    "\n",
    "\n",
    "\n",
    "\n",
    "\n",
    "\n",
    "\n"
   ]
  },
  {
   "cell_type": "markdown",
   "id": "b90b200b",
   "metadata": {},
   "source": [
    "What percent of all Texas tracts are food deserts?"
   ]
  },
  {
   "cell_type": "code",
   "execution_count": 102,
   "id": "02fb9036",
   "metadata": {},
   "outputs": [
    {
     "name": "stdout",
     "output_type": "stream",
     "text": [
      "19.51% of tracts in Texas are food deserts\n"
     ]
    }
   ],
   "source": [
    "percent = data[data['LILATracts_1And10'] == 1].shape[0]/data.shape[0] * 100\n",
    "\n",
    "print(f'{round(percent,2)}% of tracts in Texas are food deserts')"
   ]
  },
  {
   "cell_type": "code",
   "execution_count": null,
   "id": "b65c265d",
   "metadata": {},
   "outputs": [],
   "source": [
    "\n",
    "\n",
    "\n",
    "\n"
   ]
  },
  {
   "cell_type": "markdown",
   "id": "714d5f1e",
   "metadata": {},
   "source": [
    "How many total people live in food deserts in Texas?    "
   ]
  },
  {
   "cell_type": "code",
   "execution_count": 103,
   "id": "04007cc7",
   "metadata": {},
   "outputs": [
    {
     "name": "stdout",
     "output_type": "stream",
     "text": [
      "Specific definition: 4926344 people live in food tracts.\n",
      "This is roughly 19.59% of the Texas population.\n",
      "Inclusive estimate: 38.28% of the population\n"
     ]
    }
   ],
   "source": [
    "#This looks at first just the single, more specific definition \n",
    "FD_pop = data[data['LILATracts_1And10'] == 1]['Pop2010'].sum()\n",
    "\n",
    "percent_FD = FD_pop/data['Pop2010'].sum()\n",
    "\n",
    "print(f'Specific definition: {FD_pop} people live in food tracts.')\n",
    "print(f'This is roughly {round(percent_FD*100,2)}% of the Texas population.')\n",
    "\n",
    "#This includes all broader definitions of a food desert \n",
    "mask = (data['LILATracts_1And10'] == 1) | (data['LILATracts_1And20'] == 1) | \\\n",
    "       (data['LILATracts_Vehicle'] == 1) | (data['LILATracts_halfAnd10'] == 1)\n",
    "\n",
    "inclusive_fd_pop = data[mask]['Pop2010'].sum()\n",
    "total_pop = data['Pop2010'].sum()\n",
    "\n",
    "print(f\"Inclusive estimate: {inclusive_fd_pop/total_pop*100:.2f}% of the population\")\n"
   ]
  },
  {
   "cell_type": "code",
   "execution_count": null,
   "id": "5bcbbc48",
   "metadata": {},
   "outputs": [],
   "source": [
    "\n",
    "\n",
    "\n",
    "\n",
    "\n",
    "\n",
    "\n"
   ]
  },
  {
   "cell_type": "markdown",
   "id": "99e29777",
   "metadata": {},
   "source": [
    "rural v urban. How many food desert tracks are there in each? What percent of tracts in rural v urban texas are food deserts?  "
   ]
  },
  {
   "cell_type": "code",
   "execution_count": 104,
   "id": "13d6e56c",
   "metadata": {},
   "outputs": [
    {
     "name": "stdout",
     "output_type": "stream",
     "text": [
      "22.44% of urban tracts are food deserts\n",
      "9.02% of rural tracts are food deserts\n"
     ]
    }
   ],
   "source": [
    "urban_and_FD = data[(data['Urban'] == 1) & (data['LILATracts_1And10'] == 1)].shape[0]\n",
    "rural_and_FD = data[(data['Urban'] == 0) & (data['LILATracts_1And10'] == 1)].shape[0]\n",
    "\n",
    "percent_urban = urban_and_FD/data[data['Urban'] == 1].shape[0] * 100\n",
    "percent_rural = rural_and_FD/data[data['Urban'] == 0].shape[0] * 100\n",
    "\n",
    "print(f'{round(percent_urban,2)}% of urban tracts are food deserts')\n",
    "print(f'{round(percent_rural,2)}% of rural tracts are food deserts')"
   ]
  },
  {
   "cell_type": "code",
   "execution_count": null,
   "id": "61b102d6",
   "metadata": {},
   "outputs": [],
   "source": [
    "\n",
    "\n",
    "\n",
    "\n",
    "\n",
    "\n",
    "\n",
    "\n"
   ]
  },
  {
   "cell_type": "code",
   "execution_count": 105,
   "id": "7c36f699",
   "metadata": {},
   "outputs": [
    {
     "data": {
      "text/plain": [
       "84"
      ]
     },
     "execution_count": 105,
     "metadata": {},
     "output_type": "execute_result"
    }
   ],
   "source": [
    "####\n",
    "# THIS IS SUPER IMPORTANT. IN ALL USES OF THE FdDes DATASET, KEEP IN MIND THAT\n",
    "# THERE ARE NOW ONLY 170 COUNTIES. THIS MEANS THAT ABOUT 80 COUNTIES DON'T HAVE ANY \n",
    "# TRACTS THAT ARE FOOD DESERTS.\n",
    "\n",
    "'''Which counties don't have any food desert tracts?'''\n",
    "\n",
    "not_fd_df = data.groupby('County')['LILATracts_1And10'].sum()\n",
    "not_fd_df = not_fd_df[not_fd_df == 0]\n",
    "list_of_counties_with_no_fd_tracts = not_fd_df.index.to_list()\n",
    "len(list_of_counties_with_no_fd_tracts)"
   ]
  },
  {
   "cell_type": "code",
   "execution_count": null,
   "id": "d724e740",
   "metadata": {},
   "outputs": [],
   "source": [
    "\n",
    "\n",
    "\n",
    "\n",
    "\n",
    "\n",
    "\n",
    "\n",
    "\n",
    "\n",
    "\n"
   ]
  },
  {
   "cell_type": "markdown",
   "id": "18c5fb0f",
   "metadata": {},
   "source": [
    "Of all food deserts, what percent are urban vs. rural?"
   ]
  },
  {
   "cell_type": "code",
   "execution_count": 106,
   "id": "3fcca89c",
   "metadata": {},
   "outputs": [
    {
     "name": "stdout",
     "output_type": "stream",
     "text": [
      "89.92172211350294% of food desert tracts are urban, while\n",
      "10.078277886497064% are rural.\n"
     ]
    }
   ],
   "source": [
    "FdDes = data[data['LILATracts_1And10'] == 1]\n",
    "\n",
    "urban_portion = FdDes[FdDes['Urban'] == 1].shape[0]/FdDes.shape[0] * 100\n",
    "rural_portion = FdDes[FdDes['Urban'] == 0].shape[0]/FdDes.shape[0] * 100\n",
    "\n",
    "print(f\"\"\"\\\n",
    "{urban_portion}% of food desert tracts are urban, while\n",
    "{rural_portion}% are rural.\"\"\")"
   ]
  },
  {
   "cell_type": "code",
   "execution_count": null,
   "id": "ba1a4df9",
   "metadata": {},
   "outputs": [],
   "source": [
    "\n",
    "\n",
    "\n",
    "\n",
    "\n",
    "\n",
    "\n",
    "\n",
    "\n",
    "\n",
    "\n"
   ]
  },
  {
   "cell_type": "markdown",
   "id": "b2c14285",
   "metadata": {},
   "source": [
    "What counties have the most number of kids in low income tracts?"
   ]
  },
  {
   "cell_type": "code",
   "execution_count": 107,
   "id": "14680ad7",
   "metadata": {},
   "outputs": [
    {
     "data": {
      "application/vnd.microsoft.datawrangler.viewer.v0+json": {
       "columns": [
        {
         "name": "County",
         "rawType": "object",
         "type": "string"
        },
        {
         "name": "Pop2010",
         "rawType": "int64",
         "type": "integer"
        },
        {
         "name": "TractKids",
         "rawType": "float64",
         "type": "float"
        },
        {
         "name": "Percent Kids",
         "rawType": "float64",
         "type": "float"
        }
       ],
       "ref": "a80f8aef-635b-4b1d-ba68-24ec39ca4777",
       "rows": [
        [
         "Webb",
         "55568",
         "21951.0",
         "39.5"
        ],
        [
         "Coryell",
         "26135",
         "10224.0",
         "39.12"
        ],
        [
         "Hidalgo",
         "461260",
         "166717.0",
         "36.14"
        ],
        [
         "Maverick",
         "34812",
         "12209.0",
         "35.07"
        ],
        [
         "Cameron",
         "184305",
         "64499.0",
         "35.0"
        ],
        [
         "Starr",
         "31035",
         "10525.0",
         "33.91"
        ],
        [
         "Deaf Smith",
         "3981",
         "1323.0",
         "33.23"
        ],
        [
         "Zapata",
         "9634",
         "3129.0",
         "32.48"
        ],
        [
         "Moore",
         "6671",
         "2148.0",
         "32.2"
        ],
        [
         "Presidio",
         "5184",
         "1667.0",
         "32.16"
        ],
        [
         "Midland",
         "25172",
         "8051.0",
         "31.98"
        ],
        [
         "Zavala",
         "9423",
         "2978.0",
         "31.6"
        ],
        [
         "Potter",
         "29241",
         "9213.0",
         "31.51"
        ],
        [
         "Parmer",
         "4968",
         "1552.0",
         "31.24"
        ],
        [
         "Ector",
         "9804",
         "3058.0",
         "31.19"
        ],
        [
         "Ellis",
         "19003",
         "5890.0",
         "31.0"
        ],
        [
         "Gray",
         "4430",
         "1370.0",
         "30.93"
        ],
        [
         "Lee",
         "6052",
         "1859.0",
         "30.72"
        ],
        [
         "Camp",
         "4825",
         "1476.0",
         "30.59"
        ],
        [
         "Lamb",
         "2794",
         "854.0",
         "30.57"
        ],
        [
         "Martin",
         "1362",
         "416.0",
         "30.54"
        ],
        [
         "Smith",
         "28613",
         "8735.0",
         "30.53"
        ],
        [
         "Brazoria",
         "20712",
         "6307.0",
         "30.45"
        ],
        [
         "Franklin",
         "2763",
         "835.0",
         "30.22"
        ],
        [
         "Val Verde",
         "22604",
         "6832.0",
         "30.22"
        ],
        [
         "Fort Bend",
         "57558",
         "17394.0",
         "30.22"
        ],
        [
         "Hudspeth",
         "3476",
         "1047.0",
         "30.12"
        ],
        [
         "El Paso",
         "205339",
         "61792.0",
         "30.09"
        ],
        [
         "Dimmit",
         "9996",
         "3001.0",
         "30.02"
        ],
        [
         "Harris",
         "637644",
         "191381.0",
         "30.01"
        ],
        [
         "Bee",
         "14866",
         "4457.0",
         "29.98"
        ],
        [
         "Titus",
         "14833",
         "4444.0",
         "29.96"
        ],
        [
         "Atascosa",
         "2684",
         "802.0",
         "29.88"
        ],
        [
         "Dallas",
         "441656",
         "131903.0",
         "29.87"
        ],
        [
         "Guadalupe",
         "15698",
         "4674.0",
         "29.77"
        ],
        [
         "Palo Pinto",
         "8617",
         "2564.0",
         "29.76"
        ],
        [
         "Wise",
         "12175",
         "3619.0",
         "29.72"
        ],
        [
         "Hockley",
         "10768",
         "3180.0",
         "29.53"
        ],
        [
         "San Patricio",
         "11475",
         "3384.0",
         "29.49"
        ],
        [
         "Victoria",
         "10874",
         "3207.0",
         "29.49"
        ],
        [
         "Cochran",
         "3127",
         "918.0",
         "29.36"
        ],
        [
         "Montgomery",
         "39113",
         "11456.0",
         "29.29"
        ],
        [
         "Jim Hogg",
         "3037",
         "889.0",
         "29.27"
        ],
        [
         "Pecos",
         "3246",
         "949.0",
         "29.24"
        ],
        [
         "Collin",
         "29208",
         "8534.0",
         "29.22"
        ],
        [
         "Floyd",
         "3824",
         "1114.0",
         "29.13"
        ],
        [
         "Jim Wells",
         "21043",
         "6098.0",
         "28.98"
        ],
        [
         "McLennan",
         "68357",
         "19783.0",
         "28.94"
        ],
        [
         "Uvalde",
         "23391",
         "6752.0",
         "28.87"
        ],
        [
         "Tarrant",
         "315695",
         "90637.0",
         "28.71"
        ]
       ],
       "shape": {
        "columns": 3,
        "rows": 170
       }
      },
      "text/html": [
       "<div>\n",
       "<style scoped>\n",
       "    .dataframe tbody tr th:only-of-type {\n",
       "        vertical-align: middle;\n",
       "    }\n",
       "\n",
       "    .dataframe tbody tr th {\n",
       "        vertical-align: top;\n",
       "    }\n",
       "\n",
       "    .dataframe thead th {\n",
       "        text-align: right;\n",
       "    }\n",
       "</style>\n",
       "<table border=\"1\" class=\"dataframe\">\n",
       "  <thead>\n",
       "    <tr style=\"text-align: right;\">\n",
       "      <th></th>\n",
       "      <th>Pop2010</th>\n",
       "      <th>TractKids</th>\n",
       "      <th>Percent Kids</th>\n",
       "    </tr>\n",
       "    <tr>\n",
       "      <th>County</th>\n",
       "      <th></th>\n",
       "      <th></th>\n",
       "      <th></th>\n",
       "    </tr>\n",
       "  </thead>\n",
       "  <tbody>\n",
       "    <tr>\n",
       "      <th>Webb</th>\n",
       "      <td>55568</td>\n",
       "      <td>21951.0</td>\n",
       "      <td>39.50</td>\n",
       "    </tr>\n",
       "    <tr>\n",
       "      <th>Coryell</th>\n",
       "      <td>26135</td>\n",
       "      <td>10224.0</td>\n",
       "      <td>39.12</td>\n",
       "    </tr>\n",
       "    <tr>\n",
       "      <th>Hidalgo</th>\n",
       "      <td>461260</td>\n",
       "      <td>166717.0</td>\n",
       "      <td>36.14</td>\n",
       "    </tr>\n",
       "    <tr>\n",
       "      <th>Maverick</th>\n",
       "      <td>34812</td>\n",
       "      <td>12209.0</td>\n",
       "      <td>35.07</td>\n",
       "    </tr>\n",
       "    <tr>\n",
       "      <th>Cameron</th>\n",
       "      <td>184305</td>\n",
       "      <td>64499.0</td>\n",
       "      <td>35.00</td>\n",
       "    </tr>\n",
       "    <tr>\n",
       "      <th>...</th>\n",
       "      <td>...</td>\n",
       "      <td>...</td>\n",
       "      <td>...</td>\n",
       "    </tr>\n",
       "    <tr>\n",
       "      <th>Sabine</th>\n",
       "      <td>5106</td>\n",
       "      <td>864.0</td>\n",
       "      <td>16.92</td>\n",
       "    </tr>\n",
       "    <tr>\n",
       "      <th>Brewster</th>\n",
       "      <td>3161</td>\n",
       "      <td>524.0</td>\n",
       "      <td>16.58</td>\n",
       "    </tr>\n",
       "    <tr>\n",
       "      <th>Hays</th>\n",
       "      <td>5233</td>\n",
       "      <td>824.0</td>\n",
       "      <td>15.75</td>\n",
       "    </tr>\n",
       "    <tr>\n",
       "      <th>Denton</th>\n",
       "      <td>37197</td>\n",
       "      <td>5744.0</td>\n",
       "      <td>15.44</td>\n",
       "    </tr>\n",
       "    <tr>\n",
       "      <th>Madison</th>\n",
       "      <td>3601</td>\n",
       "      <td>266.0</td>\n",
       "      <td>7.39</td>\n",
       "    </tr>\n",
       "  </tbody>\n",
       "</table>\n",
       "<p>170 rows × 3 columns</p>\n",
       "</div>"
      ],
      "text/plain": [
       "          Pop2010  TractKids  Percent Kids\n",
       "County                                    \n",
       "Webb        55568    21951.0         39.50\n",
       "Coryell     26135    10224.0         39.12\n",
       "Hidalgo    461260   166717.0         36.14\n",
       "Maverick    34812    12209.0         35.07\n",
       "Cameron    184305    64499.0         35.00\n",
       "...           ...        ...           ...\n",
       "Sabine       5106      864.0         16.92\n",
       "Brewster     3161      524.0         16.58\n",
       "Hays         5233      824.0         15.75\n",
       "Denton      37197     5744.0         15.44\n",
       "Madison      3601      266.0          7.39\n",
       "\n",
       "[170 rows x 3 columns]"
      ]
     },
     "execution_count": 107,
     "metadata": {},
     "output_type": "execute_result"
    }
   ],
   "source": [
    "kids_in_Fd_df = FdDes.groupby('County')['TractKids'].sum().sort_values(ascending=False)\n",
    "\n",
    "percent_kids_fd = FdDes.copy()\n",
    "percent_kids_fd = percent_kids_fd.groupby('County')[['Pop2010', 'TractKids']].sum()\n",
    "percent_kids_fd['Percent Kids'] = round((percent_kids_fd['TractKids']/percent_kids_fd['Pop2010'] * 100),2)\n",
    "percent_kids_fd.sort_values(ascending=False, by='Percent Kids')"
   ]
  },
  {
   "cell_type": "code",
   "execution_count": null,
   "id": "d2b6b149",
   "metadata": {},
   "outputs": [],
   "source": [
    "\n",
    "\n",
    "\n",
    "\n",
    "\n",
    "\n",
    "\n",
    "\n",
    "\n",
    "\n"
   ]
  },
  {
   "cell_type": "markdown",
   "id": "1a5654bc",
   "metadata": {},
   "source": [
    "Food desert vs. percent of minority population? (hispanic and black)"
   ]
  },
  {
   "cell_type": "code",
   "execution_count": 108,
   "id": "d49257ae",
   "metadata": {},
   "outputs": [
    {
     "data": {
      "text/plain": [
       "\"Harris',\\n 'Dallas',\\n 'Bexar',\\n 'Tarrant',\\n 'Hidalgo',\\n 'El Paso',\\n 'Cameron',\\n 'Travis',\\n 'Bell',\\n 'Jefferson\""
      ]
     },
     "execution_count": 108,
     "metadata": {},
     "output_type": "execute_result"
    }
   ],
   "source": [
    "FDvsMin = data\n",
    "\n",
    "cols = ['Pop2010','TractWhite', 'TractBlack', 'TractAsian', 'TractNHOPI', 'TractAIAN', 'TractOMultir', 'TractHispanic']\n",
    "race_df = FDvsMin.groupby('County')[cols].sum()\n",
    "\n",
    "for col in cols[1:]:\n",
    "    race_df[f'Pct {col}'] = round((race_df[col]/race_df['Pop2010'] * 100),2)\n",
    "\n",
    "new_df = race_df.loc[:, ['Pct TractWhite', 'Pct TractBlack', 'Pct TractAsian', 'Pct TractNHOPI', 'Pct TractAIAN', 'Pct TractOMultir', 'Pct TractHispanic']]\n",
    "\n",
    "counties_highest_black_FD = new_df.sort_values(by=['Pct TractBlack'], ascending=False)\n",
    "counties_highest_black_FD.index.tolist()[:10]\n",
    "\n",
    "'''Harris',\n",
    " 'Dallas',\n",
    " 'Bexar',\n",
    " 'Tarrant',\n",
    " 'Hidalgo',\n",
    " 'El Paso',\n",
    " 'Cameron',\n",
    " 'Travis',\n",
    " 'Bell',\n",
    " 'Jefferson'''\n",
    "\n",
    "# Jefferson, Dallas, "
   ]
  }
 ],
 "metadata": {
  "kernelspec": {
   "display_name": "Python 3",
   "language": "python",
   "name": "python3"
  },
  "language_info": {
   "codemirror_mode": {
    "name": "ipython",
    "version": 3
   },
   "file_extension": ".py",
   "mimetype": "text/x-python",
   "name": "python",
   "nbconvert_exporter": "python",
   "pygments_lexer": "ipython3",
   "version": "3.13.2"
  }
 },
 "nbformat": 4,
 "nbformat_minor": 5
}
