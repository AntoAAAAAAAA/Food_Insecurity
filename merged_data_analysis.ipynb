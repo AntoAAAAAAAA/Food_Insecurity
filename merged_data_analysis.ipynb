{
 "cells": [
  {
   "cell_type": "code",
   "execution_count": 1,
   "id": "35e4b5d1",
   "metadata": {},
   "outputs": [],
   "source": [
    "import pandas as pd\n",
    "import numpy as np\n",
    "import matplotlib.pyplot as plt\n",
    "\n",
    "atlas = pd.read_csv('data/usds_atlas_cleaned.csv')\n",
    "mmg = pd.read_csv('data/t19_23_cleaned.csv')"
   ]
  },
  {
   "cell_type": "code",
   "execution_count": null,
   "id": "3368d335",
   "metadata": {},
   "outputs": [],
   "source": [
    "\n",
    "\n",
    "\n",
    "\n",
    "\n",
    "\n"
   ]
  },
  {
   "cell_type": "markdown",
   "id": "9949041c",
   "metadata": {},
   "source": [
    "Do counties with large numbers of food deserts also have high numbers of food insecurity rates?"
   ]
  },
  {
   "cell_type": "code",
   "execution_count": 2,
   "id": "98a23b87",
   "metadata": {},
   "outputs": [
    {
     "data": {
      "image/png": "[encoded data removed]",
      "text/plain": [
       "<Figure size 640x480 with 1 Axes>"
      ]
     },
     "metadata": {},
     "output_type": "display_data"
    }
   ],
   "source": [
    "#food deserts per county \n",
    "fd_per_county = atlas.groupby('County')['LILATracts_1And10'].sum()\n",
    "\n",
    "#average food insecurity rate across 2019-23 per county \n",
    "mmg.rename(columns={'County, State': 'County'}, inplace=True)\n",
    "avg_FI = mmg.groupby('County')['Overall Food Insecurity Rate'].mean().round(2)\n",
    "\n",
    "merged = pd.merge(fd_per_county, avg_FI, how='inner', on='County')\n",
    "\n",
    "merged.plot(kind='scatter', y='LILATracts_1And10', x='Overall Food Insecurity Rate', alpha=0.6)\n",
    "plt.xlabel('Number of Food Desert Tracts in a County')\n",
    "plt.title('Food Insecurity Rate vs. Number of Food Desert Tracts')\n",
    "plt.show()\n"
   ]
  },
  {
   "cell_type": "code",
   "execution_count": 3,
   "id": "5da2f846",
   "metadata": {},
   "outputs": [
    {
     "name": "stdout",
     "output_type": "stream",
     "text": [
      "Pearson correlation: 0.0278, p-value: 6.5970e-01\n",
      "There was no significant correlation or relationship between these variables.\n"
     ]
    }
   ],
   "source": [
    "from scipy.stats import pearsonr\n",
    "\n",
    "pearson_corr, pearson_p = pearsonr(merged['LILATracts_1And10'], merged['Overall Food Insecurity Rate'])\n",
    "print(f\"Pearson correlation: {pearson_corr:.4f}, p-value: {pearson_p:.4e}\")\n",
    "print('There was no significant correlation or relationship between these variables.')"
   ]
  },
  {
   "cell_type": "code",
   "execution_count": null,
   "id": "dd7be886",
   "metadata": {},
   "outputs": [],
   "source": [
    "\n",
    "\n",
    "\n",
    "\n",
    "\n",
    "\n",
    "\n",
    "\n"
   ]
  },
  {
   "cell_type": "markdown",
   "id": "62a85654",
   "metadata": {},
   "source": [
    "SNAP coverage gap. People who qualify - people who actually get SNAP beneifts (2019)"
   ]
  },
  {
   "cell_type": "code",
   "execution_count": 4,
   "id": "a3c14d5c",
   "metadata": {},
   "outputs": [
    {
     "name": "stdout",
     "output_type": "stream",
     "text": [
      "1. Harris: 249,374\n",
      "2. Dallas: 152,172\n",
      "3. Bexar: 111,606\n",
      "4. Tarrant: 81,214\n",
      "5. Hidalgo: 74,054\n",
      "6. El Paso: 49,804\n",
      "7. Travis: 48,244\n",
      "8. Cameron: 38,580\n",
      "9. Collin: 27,996\n",
      "10. Denton: 22,276\n"
     ]
    }
   ],
   "source": [
    "mmg['# ppl that qualify for SNAP'] = mmg['% FI ≤ SNAP Threshold']*mmg['# of Food Insecure Persons Overall']\n",
    "mmg['# ppl that qualify for SNAP'] = mmg['# ppl that qualify for SNAP'].round(2)\n",
    "mmg = mmg[mmg['Year'] == 2019].copy() #filter for just 2019 year SNAP data\n",
    "\n",
    "atlas_snap = atlas.groupby('County')['TractSNAP'].sum()\n",
    "\n",
    "snap_gap_merged = pd.merge(mmg, atlas_snap, on='County')\n",
    "snap_gap_merged['SNAP Gap'] = round((snap_gap_merged['# ppl that qualify for SNAP'] - snap_gap_merged['TractSNAP']),2)\n",
    "snap_gap_merged.sort_values(by='SNAP Gap', inplace=True, ascending=False)\n",
    "final_snap_gap = snap_gap_merged[['County', 'SNAP Gap']]\n",
    "\n",
    "for i, row in enumerate(final_snap_gap.head(10).itertuples(),1):\n",
    "    print(f'{i}. {row.County}: {round(row._2):,}')"
   ]
  },
  {
   "cell_type": "code",
   "execution_count": null,
   "id": "4502005d",
   "metadata": {},
   "outputs": [],
   "source": [
    "\n",
    "\n",
    "\n",
    "\n",
    "\n",
    "\n",
    "\n",
    "\n",
    "\n",
    "\n",
    "\n"
   ]
  },
  {
   "cell_type": "markdown",
   "id": "48adf230",
   "metadata": {},
   "source": [
    "Final: Make your own food insecurity score that can be used to rank counties\n",
    "- What counties come out as the most in need of help, and which ones are the best off? "
   ]
  },
  {
   "cell_type": "code",
   "execution_count": 5,
   "id": "0b6325bc",
   "metadata": {},
   "outputs": [
    {
     "name": "stdout",
     "output_type": "stream",
     "text": [
      "According to our generated food insecurity score, these are the counties with the worst scores\n",
      "and that are in the most dire need for help:\n",
      "1. Harris: 3.4565\n",
      "2. Dallas: 2.9020\n",
      "3. Presidio: 2.6639\n",
      "4. Hidalgo: 2.5217\n",
      "5. Bexar: 2.4040\n",
      "6. Cottle: 2.2411\n",
      "7. El Paso: 2.2356\n",
      "8. Starr: 2.2060\n",
      "9. Tarrant: 2.1390\n",
      "10. Hall: 2.1277\n"
     ]
    }
   ],
   "source": [
    "'''\n",
    "1. food insecurity rate\n",
    "2. SNAP Gap\n",
    "3. % FI ≤ SNAP Threshold\n",
    "4. Number of food desert tracts\n",
    "5. Cost per Meal \n",
    "'''\n",
    "\n",
    "final_atlas = atlas.groupby('County')[['LILATracts_1And10']].sum().reset_index()\n",
    "\n",
    "final_atlas = atlas.groupby('County')['LILATracts_1And10'].sum()\n",
    "final_mmg = mmg[['County','Overall Food Insecurity Rate', '% FI ≤ SNAP Threshold', 'Cost Per Meal']]\n",
    "\n",
    "merged1 = pd.merge(final_atlas, final_snap_gap, on='County')\n",
    "final_merged = pd.merge(merged1, final_mmg, on='County')\n",
    "\n",
    "\n",
    "#normalization of columns \n",
    "def normalize(series):\n",
    "    series_norm = (series - series.min())/(series.max() - series.min())\n",
    "    return series_norm\n",
    "\n",
    "final_merged.set_index('County', inplace=True)\n",
    "final_merged.to_csv('final_merged_notnormalized.csv')\n",
    "final_merged = final_merged.apply(normalize)\n",
    "final_merged['Final Score'] = final_merged.sum(axis=1).round(4)\n",
    "final_merged.sort_values(by='Final Score', inplace=True, ascending=False)\n",
    "\n",
    "final_score_list = final_merged.head(10).index.tolist()\n",
    "\n",
    "print('According to our generated food insecurity score, these are the counties with the worst scores')\n",
    "print('and that are in the most dire need for help:')\n",
    "\n",
    "for i, val in enumerate(final_score_list, 1):\n",
    "    score = final_merged.loc[val, 'Final Score']\n",
    "    print(f\"{i}. {val}: {score:.4f}\")"
   ]
  },
  {
   "cell_type": "code",
   "execution_count": 6,
   "id": "8fdac660",
   "metadata": {},
   "outputs": [],
   "source": [
    "final_merged.to_csv('final_merged.csv')"
   ]
  }
 ],
 "metadata": {
  "kernelspec": {
   "display_name": "Python 3",
   "language": "python",
   "name": "python3"
  },
  "language_info": {
   "codemirror_mode": {
    "name": "ipython",
    "version": 3
   },
   "file_extension": ".py",
   "mimetype": "text/x-python",
   "name": "python",
   "nbconvert_exporter": "python",
   "pygments_lexer": "ipython3",
   "version": "3.13.2"
  }
 },
 "nbformat": 4,
 "nbformat_minor": 5
}
