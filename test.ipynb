{
 "cells": [
  {
   "cell_type": "code",
   "execution_count": 1,
   "id": "078ea768",
   "metadata": {},
   "outputs": [],
   "source": [
    "import geopandas as gpd\n",
    "\n",
    "# Load shapefile\n",
    "gdf = gpd.read_file(\"data/tl_2019_us_county_shapefile.zip\")\n",
    "gdf = gdf.to_crs(epsg=4326)\n",
    "\n",
    "# Simplify geometry to reduce size\n",
    "gdf['geometry'] = gdf['geometry'].simplify(0.01, preserve_topology=True)\n",
    "\n",
    "# Save as GeoJSON\n",
    "gdf.to_file(\"data/tx_counties_simplified.geojson\", driver=\"GeoJSON\")\n"
   ]
  }
 ],
 "metadata": {
  "kernelspec": {
   "display_name": "Python 3",
   "language": "python",
   "name": "python3"
  },
  "language_info": {
   "codemirror_mode": {
    "name": "ipython",
    "version": 3
   },
   "file_extension": ".py",
   "mimetype": "text/x-python",
   "name": "python",
   "nbconvert_exporter": "python",
   "pygments_lexer": "ipython3",
   "version": "3.13.2"
  }
 },
 "nbformat": 4,
 "nbformat_minor": 5
}
